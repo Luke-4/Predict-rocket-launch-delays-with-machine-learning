{
 "cells": [
  {
   "cell_type": "markdown",
   "metadata": {},
   "source": [
    "#  Predict rocket launch delays with machine learning"
   ]
  },
  {
   "cell_type": "markdown",
   "metadata": {},
   "source": [
    "## Import Libraries and load data"
   ]
  },
  {
   "cell_type": "code",
   "execution_count": 240,
   "metadata": {},
   "outputs": [],
   "source": [
    "#import libraries\n",
    "import pandas as pd\n",
    "import numpy as np\n",
    "import datetime\n",
    "from sklearn import preprocessing, tree, linear_model, model_selection, metrics\n",
    "from sklearn.model_selection import train_test_split\n",
    "from sklearn.tree import DecisionTreeClassifier\n",
    "from sklearn.metrics import confusion_matrix\n",
    "\n",
    "# for visualizing the tree\n",
    "import pydotplus\n",
    "from IPython.display import Image \n",
    "\n",
    "#\n",
    "import pandas as pd\n",
    "import matplotlib.pyplot as plt"
   ]
  },
  {
   "cell_type": "code",
   "execution_count": 230,
   "metadata": {},
   "outputs": [
    {
     "data": {
      "text/html": [
       "<div>\n",
       "<style scoped>\n",
       "    .dataframe tbody tr th:only-of-type {\n",
       "        vertical-align: middle;\n",
       "    }\n",
       "\n",
       "    .dataframe tbody tr th {\n",
       "        vertical-align: top;\n",
       "    }\n",
       "\n",
       "    .dataframe thead th {\n",
       "        text-align: right;\n",
       "    }\n",
       "</style>\n",
       "<table border=\"1\" class=\"dataframe\">\n",
       "  <thead>\n",
       "    <tr style=\"text-align: right;\">\n",
       "      <th></th>\n",
       "      <th>Name</th>\n",
       "      <th>Date</th>\n",
       "      <th>Time (East Coast)</th>\n",
       "      <th>Location</th>\n",
       "      <th>Crewed or Uncrewed</th>\n",
       "      <th>Launched?</th>\n",
       "      <th>High Temp</th>\n",
       "      <th>Low Temp</th>\n",
       "      <th>Ave Temp</th>\n",
       "      <th>Temp at Launch Time</th>\n",
       "      <th>...</th>\n",
       "      <th>Max Wind Speed</th>\n",
       "      <th>Visibility</th>\n",
       "      <th>Wind Speed at Launch Time</th>\n",
       "      <th>Hist Ave Max Wind Speed</th>\n",
       "      <th>Hist Ave Visibility</th>\n",
       "      <th>Sea Level Pressure</th>\n",
       "      <th>Hist Ave Sea Level Pressure</th>\n",
       "      <th>Day Length</th>\n",
       "      <th>Condition</th>\n",
       "      <th>Notes</th>\n",
       "    </tr>\n",
       "  </thead>\n",
       "  <tbody>\n",
       "    <tr>\n",
       "      <th>0</th>\n",
       "      <td>NaN</td>\n",
       "      <td>1958-12-04</td>\n",
       "      <td>NaN</td>\n",
       "      <td>Cape Canaveral</td>\n",
       "      <td>NaN</td>\n",
       "      <td>NaN</td>\n",
       "      <td>75.0</td>\n",
       "      <td>68.0</td>\n",
       "      <td>71.00</td>\n",
       "      <td>NaN</td>\n",
       "      <td>...</td>\n",
       "      <td>16.0</td>\n",
       "      <td>15.0</td>\n",
       "      <td>NaN</td>\n",
       "      <td>NaN</td>\n",
       "      <td>NaN</td>\n",
       "      <td>30.22</td>\n",
       "      <td>NaN</td>\n",
       "      <td>10:26:00</td>\n",
       "      <td>Cloudy</td>\n",
       "      <td>NaN</td>\n",
       "    </tr>\n",
       "    <tr>\n",
       "      <th>1</th>\n",
       "      <td>NaN</td>\n",
       "      <td>1958-12-05</td>\n",
       "      <td>NaN</td>\n",
       "      <td>Cape Canaveral</td>\n",
       "      <td>NaN</td>\n",
       "      <td>NaN</td>\n",
       "      <td>78.0</td>\n",
       "      <td>70.0</td>\n",
       "      <td>73.39</td>\n",
       "      <td>NaN</td>\n",
       "      <td>...</td>\n",
       "      <td>14.0</td>\n",
       "      <td>10.0</td>\n",
       "      <td>NaN</td>\n",
       "      <td>NaN</td>\n",
       "      <td>NaN</td>\n",
       "      <td>30.2</td>\n",
       "      <td>NaN</td>\n",
       "      <td>10:26:00</td>\n",
       "      <td>Cloudy</td>\n",
       "      <td>NaN</td>\n",
       "    </tr>\n",
       "    <tr>\n",
       "      <th>2</th>\n",
       "      <td>Pioneer 3</td>\n",
       "      <td>1958-12-06</td>\n",
       "      <td>01:45:00</td>\n",
       "      <td>Cape Canaveral</td>\n",
       "      <td>Uncrewed</td>\n",
       "      <td>Y</td>\n",
       "      <td>73.0</td>\n",
       "      <td>0.0</td>\n",
       "      <td>60.21</td>\n",
       "      <td>62.0</td>\n",
       "      <td>...</td>\n",
       "      <td>15.0</td>\n",
       "      <td>10.0</td>\n",
       "      <td>11.0</td>\n",
       "      <td>NaN</td>\n",
       "      <td>NaN</td>\n",
       "      <td>30.25</td>\n",
       "      <td>NaN</td>\n",
       "      <td>10:25:00</td>\n",
       "      <td>Cloudy</td>\n",
       "      <td>NaN</td>\n",
       "    </tr>\n",
       "    <tr>\n",
       "      <th>3</th>\n",
       "      <td>NaN</td>\n",
       "      <td>1958-12-07</td>\n",
       "      <td>NaN</td>\n",
       "      <td>Cape Canaveral</td>\n",
       "      <td>NaN</td>\n",
       "      <td>NaN</td>\n",
       "      <td>76.0</td>\n",
       "      <td>57.0</td>\n",
       "      <td>66.04</td>\n",
       "      <td>NaN</td>\n",
       "      <td>...</td>\n",
       "      <td>10.0</td>\n",
       "      <td>10.0</td>\n",
       "      <td>NaN</td>\n",
       "      <td>NaN</td>\n",
       "      <td>NaN</td>\n",
       "      <td>30.28</td>\n",
       "      <td>NaN</td>\n",
       "      <td>10:25:00</td>\n",
       "      <td>Partly Cloudy</td>\n",
       "      <td>NaN</td>\n",
       "    </tr>\n",
       "    <tr>\n",
       "      <th>4</th>\n",
       "      <td>NaN</td>\n",
       "      <td>1958-12-08</td>\n",
       "      <td>NaN</td>\n",
       "      <td>Cape Canaveral</td>\n",
       "      <td>NaN</td>\n",
       "      <td>NaN</td>\n",
       "      <td>79.0</td>\n",
       "      <td>60.0</td>\n",
       "      <td>70.52</td>\n",
       "      <td>NaN</td>\n",
       "      <td>...</td>\n",
       "      <td>12.0</td>\n",
       "      <td>10.0</td>\n",
       "      <td>NaN</td>\n",
       "      <td>NaN</td>\n",
       "      <td>NaN</td>\n",
       "      <td>30.23</td>\n",
       "      <td>NaN</td>\n",
       "      <td>12:24:00</td>\n",
       "      <td>Partly Cloudy</td>\n",
       "      <td>NaN</td>\n",
       "    </tr>\n",
       "  </tbody>\n",
       "</table>\n",
       "<p>5 rows × 26 columns</p>\n",
       "</div>"
      ],
      "text/plain": [
       "        Name       Date Time (East Coast)        Location Crewed or Uncrewed  \\\n",
       "0        NaN 1958-12-04               NaN  Cape Canaveral                NaN   \n",
       "1        NaN 1958-12-05               NaN  Cape Canaveral                NaN   \n",
       "2  Pioneer 3 1958-12-06          01:45:00  Cape Canaveral           Uncrewed   \n",
       "3        NaN 1958-12-07               NaN  Cape Canaveral                NaN   \n",
       "4        NaN 1958-12-08               NaN  Cape Canaveral                NaN   \n",
       "\n",
       "  Launched?  High Temp  Low Temp  Ave Temp  Temp at Launch Time  ...  \\\n",
       "0       NaN       75.0      68.0     71.00                  NaN  ...   \n",
       "1       NaN       78.0      70.0     73.39                  NaN  ...   \n",
       "2         Y       73.0       0.0     60.21                 62.0  ...   \n",
       "3       NaN       76.0      57.0     66.04                  NaN  ...   \n",
       "4       NaN       79.0      60.0     70.52                  NaN  ...   \n",
       "\n",
       "   Max Wind Speed  Visibility  Wind Speed at Launch Time  \\\n",
       "0            16.0        15.0                        NaN   \n",
       "1            14.0        10.0                        NaN   \n",
       "2            15.0        10.0                       11.0   \n",
       "3            10.0        10.0                        NaN   \n",
       "4            12.0        10.0                        NaN   \n",
       "\n",
       "   Hist Ave Max Wind Speed  Hist Ave Visibility Sea Level Pressure  \\\n",
       "0                      NaN                  NaN              30.22   \n",
       "1                      NaN                  NaN               30.2   \n",
       "2                      NaN                  NaN              30.25   \n",
       "3                      NaN                  NaN              30.28   \n",
       "4                      NaN                  NaN              30.23   \n",
       "\n",
       "   Hist Ave Sea Level Pressure  Day Length      Condition  Notes  \n",
       "0                          NaN    10:26:00         Cloudy    NaN  \n",
       "1                          NaN    10:26:00         Cloudy    NaN  \n",
       "2                          NaN    10:25:00         Cloudy    NaN  \n",
       "3                          NaN    10:25:00  Partly Cloudy    NaN  \n",
       "4                          NaN    12:24:00  Partly Cloudy    NaN  \n",
       "\n",
       "[5 rows x 26 columns]"
      ]
     },
     "execution_count": 230,
     "metadata": {},
     "output_type": "execute_result"
    }
   ],
   "source": [
    "# Load Data\n",
    "launch_data = pd.read_excel('RocketLaunchDataCompleted.xlsx')\n",
    "launch_data.head()"
   ]
  },
  {
   "cell_type": "code",
   "execution_count": 124,
   "metadata": {},
   "outputs": [
    {
     "data": {
      "text/plain": [
       "Index(['Name', 'Date', 'Time (East Coast)', 'Location', 'Crewed or Uncrewed',\n",
       "       'Launched?', 'High Temp', 'Low Temp', 'Ave Temp', 'Temp at Launch Time',\n",
       "       'Hist High Temp', 'Hist Low Temp', 'Hist Ave Temp',\n",
       "       'Percipitation at Launch Time', 'Hist Ave Percipitation',\n",
       "       'Wind Direction', 'Max Wind Speed', 'Visibility',\n",
       "       'Wind Speed at Launch Time', 'Hist Ave Max Wind Speed',\n",
       "       'Hist Ave Visibility', 'Sea Level Pressure',\n",
       "       'Hist Ave Sea Level Pressure', 'Day Length', 'Condition', 'Notes'],\n",
       "      dtype='object')"
      ]
     },
     "execution_count": 124,
     "metadata": {},
     "output_type": "execute_result"
    }
   ],
   "source": [
    "launch_data.columns"
   ]
  },
  {
   "cell_type": "markdown",
   "metadata": {},
   "source": [
    "## Data cleaning\n"
   ]
  },
  {
   "cell_type": "code",
   "execution_count": 193,
   "metadata": {},
   "outputs": [
    {
     "name": "stdout",
     "output_type": "stream",
     "text": [
      "<class 'pandas.core.frame.DataFrame'>\n",
      "RangeIndex: 300 entries, 0 to 299\n",
      "Data columns (total 26 columns):\n",
      " #   Column                        Non-Null Count  Dtype         \n",
      "---  ------                        --------------  -----         \n",
      " 0   Name                          60 non-null     object        \n",
      " 1   Date                          300 non-null    datetime64[ns]\n",
      " 2   Time (East Coast)             59 non-null     object        \n",
      " 3   Location                      300 non-null    object        \n",
      " 4   Crewed or Uncrewed            60 non-null     object        \n",
      " 5   Launched?                     60 non-null     object        \n",
      " 6   High Temp                     299 non-null    float64       \n",
      " 7   Low Temp                      299 non-null    float64       \n",
      " 8   Ave Temp                      299 non-null    float64       \n",
      " 9   Temp at Launch Time           59 non-null     float64       \n",
      " 10  Hist High Temp                299 non-null    float64       \n",
      " 11  Hist Low Temp                 299 non-null    float64       \n",
      " 12  Hist Ave Temp                 299 non-null    float64       \n",
      " 13  Percipitation at Launch Time  299 non-null    float64       \n",
      " 14  Hist Ave Percipitation        299 non-null    float64       \n",
      " 15  Wind Direction                299 non-null    object        \n",
      " 16  Max Wind Speed                299 non-null    float64       \n",
      " 17  Visibility                    299 non-null    float64       \n",
      " 18  Wind Speed at Launch Time     59 non-null     float64       \n",
      " 19  Hist Ave Max Wind Speed       0 non-null      float64       \n",
      " 20  Hist Ave Visibility           0 non-null      float64       \n",
      " 21  Sea Level Pressure            299 non-null    object        \n",
      " 22  Hist Ave Sea Level Pressure   0 non-null      float64       \n",
      " 23  Day Length                    298 non-null    object        \n",
      " 24  Condition                     298 non-null    object        \n",
      " 25  Notes                         3 non-null      object        \n",
      "dtypes: datetime64[ns](1), float64(15), object(10)\n",
      "memory usage: 61.1+ KB\n"
     ]
    }
   ],
   "source": [
    "launch_data.info()\n",
    "#launch_data.columns"
   ]
  },
  {
   "cell_type": "markdown",
   "metadata": {},
   "source": [
    "**From the above Pandas info method:**\n",
    "<hr>\n",
    "\n",
    "We can see that Hist Ave Max Wind Speed, Hist Ave Visibility, and Hist Ave Sea Level Pressure don't have any data.<br>\n",
    "It makes sense that Wind Speed at Launch Time, Temp at Launch Time, Launched, Crewed or Uncrewed, Time, and Name have only 60 values, because the data includes only 60 launches. The remaining are the days before and after the launch."
   ]
  },
  {
   "cell_type": "markdown",
   "metadata": {},
   "source": [
    "### Handling missing values\n",
    "\n"
   ]
  },
  {
   "cell_type": "code",
   "execution_count": 231,
   "metadata": {},
   "outputs": [
    {
     "data": {
      "text/html": [
       "<div>\n",
       "<style scoped>\n",
       "    .dataframe tbody tr th:only-of-type {\n",
       "        vertical-align: middle;\n",
       "    }\n",
       "\n",
       "    .dataframe tbody tr th {\n",
       "        vertical-align: top;\n",
       "    }\n",
       "\n",
       "    .dataframe thead th {\n",
       "        text-align: right;\n",
       "    }\n",
       "</style>\n",
       "<table border=\"1\" class=\"dataframe\">\n",
       "  <thead>\n",
       "    <tr style=\"text-align: right;\">\n",
       "      <th></th>\n",
       "      <th>Name</th>\n",
       "      <th>Date</th>\n",
       "      <th>Time (East Coast)</th>\n",
       "      <th>Location</th>\n",
       "      <th>Crewed or Uncrewed</th>\n",
       "      <th>Launched?</th>\n",
       "      <th>High Temp</th>\n",
       "      <th>Low Temp</th>\n",
       "      <th>Ave Temp</th>\n",
       "      <th>Temp at Launch Time</th>\n",
       "      <th>...</th>\n",
       "      <th>Hist Ave Percipitation</th>\n",
       "      <th>Wind Direction</th>\n",
       "      <th>Max Wind Speed</th>\n",
       "      <th>Visibility</th>\n",
       "      <th>Wind Speed at Launch Time</th>\n",
       "      <th>Sea Level Pressure</th>\n",
       "      <th>Day Length</th>\n",
       "      <th>Condition</th>\n",
       "      <th>Notes</th>\n",
       "      <th>Launch_that_day</th>\n",
       "    </tr>\n",
       "  </thead>\n",
       "  <tbody>\n",
       "    <tr>\n",
       "      <th>0</th>\n",
       "      <td>0</td>\n",
       "      <td>1958-12-04</td>\n",
       "      <td>0</td>\n",
       "      <td>Cape Canaveral</td>\n",
       "      <td>Uncrewed</td>\n",
       "      <td>N</td>\n",
       "      <td>75.0</td>\n",
       "      <td>68.0</td>\n",
       "      <td>71.00</td>\n",
       "      <td>75.101695</td>\n",
       "      <td>...</td>\n",
       "      <td>0.08</td>\n",
       "      <td>E</td>\n",
       "      <td>16.0</td>\n",
       "      <td>15.0</td>\n",
       "      <td>10.59322</td>\n",
       "      <td>30.22</td>\n",
       "      <td>626.0</td>\n",
       "      <td>Cloudy</td>\n",
       "      <td>0</td>\n",
       "      <td>N</td>\n",
       "    </tr>\n",
       "    <tr>\n",
       "      <th>1</th>\n",
       "      <td>0</td>\n",
       "      <td>1958-12-05</td>\n",
       "      <td>0</td>\n",
       "      <td>Cape Canaveral</td>\n",
       "      <td>Uncrewed</td>\n",
       "      <td>N</td>\n",
       "      <td>78.0</td>\n",
       "      <td>70.0</td>\n",
       "      <td>73.39</td>\n",
       "      <td>75.101695</td>\n",
       "      <td>...</td>\n",
       "      <td>0.09</td>\n",
       "      <td>E</td>\n",
       "      <td>14.0</td>\n",
       "      <td>10.0</td>\n",
       "      <td>10.59322</td>\n",
       "      <td>30.20</td>\n",
       "      <td>626.0</td>\n",
       "      <td>Cloudy</td>\n",
       "      <td>0</td>\n",
       "      <td>N</td>\n",
       "    </tr>\n",
       "    <tr>\n",
       "      <th>2</th>\n",
       "      <td>Pioneer 3</td>\n",
       "      <td>1958-12-06</td>\n",
       "      <td>01:45:00</td>\n",
       "      <td>Cape Canaveral</td>\n",
       "      <td>Uncrewed</td>\n",
       "      <td>Y</td>\n",
       "      <td>73.0</td>\n",
       "      <td>0.0</td>\n",
       "      <td>60.21</td>\n",
       "      <td>62.000000</td>\n",
       "      <td>...</td>\n",
       "      <td>0.09</td>\n",
       "      <td>NE</td>\n",
       "      <td>15.0</td>\n",
       "      <td>10.0</td>\n",
       "      <td>11.00000</td>\n",
       "      <td>30.25</td>\n",
       "      <td>625.0</td>\n",
       "      <td>Cloudy</td>\n",
       "      <td>0</td>\n",
       "      <td>Y</td>\n",
       "    </tr>\n",
       "    <tr>\n",
       "      <th>3</th>\n",
       "      <td>0</td>\n",
       "      <td>1958-12-07</td>\n",
       "      <td>0</td>\n",
       "      <td>Cape Canaveral</td>\n",
       "      <td>Uncrewed</td>\n",
       "      <td>N</td>\n",
       "      <td>76.0</td>\n",
       "      <td>57.0</td>\n",
       "      <td>66.04</td>\n",
       "      <td>75.101695</td>\n",
       "      <td>...</td>\n",
       "      <td>0.08</td>\n",
       "      <td>N</td>\n",
       "      <td>10.0</td>\n",
       "      <td>10.0</td>\n",
       "      <td>10.59322</td>\n",
       "      <td>30.28</td>\n",
       "      <td>625.0</td>\n",
       "      <td>Partly Cloudy</td>\n",
       "      <td>0</td>\n",
       "      <td>N</td>\n",
       "    </tr>\n",
       "    <tr>\n",
       "      <th>4</th>\n",
       "      <td>0</td>\n",
       "      <td>1958-12-08</td>\n",
       "      <td>0</td>\n",
       "      <td>Cape Canaveral</td>\n",
       "      <td>Uncrewed</td>\n",
       "      <td>N</td>\n",
       "      <td>79.0</td>\n",
       "      <td>60.0</td>\n",
       "      <td>70.52</td>\n",
       "      <td>75.101695</td>\n",
       "      <td>...</td>\n",
       "      <td>0.09</td>\n",
       "      <td>E</td>\n",
       "      <td>12.0</td>\n",
       "      <td>10.0</td>\n",
       "      <td>10.59322</td>\n",
       "      <td>30.23</td>\n",
       "      <td>744.0</td>\n",
       "      <td>Partly Cloudy</td>\n",
       "      <td>0</td>\n",
       "      <td>N</td>\n",
       "    </tr>\n",
       "  </tbody>\n",
       "</table>\n",
       "<p>5 rows × 24 columns</p>\n",
       "</div>"
      ],
      "text/plain": [
       "        Name       Date Time (East Coast)        Location Crewed or Uncrewed  \\\n",
       "0          0 1958-12-04                 0  Cape Canaveral           Uncrewed   \n",
       "1          0 1958-12-05                 0  Cape Canaveral           Uncrewed   \n",
       "2  Pioneer 3 1958-12-06          01:45:00  Cape Canaveral           Uncrewed   \n",
       "3          0 1958-12-07                 0  Cape Canaveral           Uncrewed   \n",
       "4          0 1958-12-08                 0  Cape Canaveral           Uncrewed   \n",
       "\n",
       "  Launched?  High Temp  Low Temp  Ave Temp  Temp at Launch Time  ...  \\\n",
       "0         N       75.0      68.0     71.00            75.101695  ...   \n",
       "1         N       78.0      70.0     73.39            75.101695  ...   \n",
       "2         Y       73.0       0.0     60.21            62.000000  ...   \n",
       "3         N       76.0      57.0     66.04            75.101695  ...   \n",
       "4         N       79.0      60.0     70.52            75.101695  ...   \n",
       "\n",
       "   Hist Ave Percipitation  Wind Direction  Max Wind Speed  Visibility  \\\n",
       "0                    0.08               E            16.0        15.0   \n",
       "1                    0.09               E            14.0        10.0   \n",
       "2                    0.09              NE            15.0        10.0   \n",
       "3                    0.08               N            10.0        10.0   \n",
       "4                    0.09               E            12.0        10.0   \n",
       "\n",
       "   Wind Speed at Launch Time Sea Level Pressure  Day Length      Condition  \\\n",
       "0                   10.59322              30.22       626.0         Cloudy   \n",
       "1                   10.59322              30.20       626.0         Cloudy   \n",
       "2                   11.00000              30.25       625.0         Cloudy   \n",
       "3                   10.59322              30.28       625.0  Partly Cloudy   \n",
       "4                   10.59322              30.23       744.0  Partly Cloudy   \n",
       "\n",
       "   Notes  Launch_that_day  \n",
       "0      0                N  \n",
       "1      0                N  \n",
       "2      0                Y  \n",
       "3      0                N  \n",
       "4      0                N  \n",
       "\n",
       "[5 rows x 24 columns]"
      ]
     },
     "execution_count": 231,
     "metadata": {},
     "output_type": "execute_result"
    }
   ],
   "source": [
    "# To handle missing values, we will fill the missing values with appropriate values\n",
    "#launch_data['Launched?'].fillna('N',inplace=True)\n",
    "launch_data['Crewed or Uncrewed'].fillna('Uncrewed',inplace=True)\n",
    "launch_data['Wind Direction'].fillna('unknown',inplace=True)\n",
    "launch_data['Condition'].fillna('Fair',inplace=True)\n",
    "#launch_data.fillna(0,inplace=True)\n",
    "\n",
    "\n",
    "# Few improvements to the reading materials:\n",
    "\n",
    "# For the target column filling with N would be wrong, an alternative for this is to create an aditional \n",
    "# feature to indicate if there was a flight that day \n",
    "launch_data['Launch_that_day'] = launch_data['Name'].apply(lambda x: 'Y' if pd.notnull(x) else 'N')\n",
    "launch_data['Launched?'].fillna('N',inplace=True)\n",
    "# And still fill the launched? with N \n",
    "\n",
    "# Fill numeric columns with mean is better than filling with 0\n",
    "launch_data['Wind Speed at Launch Time'].fillna(launch_data['Wind Speed at Launch Time'].mean(), inplace=True)\n",
    "launch_data['Temp at Launch Time'].fillna(launch_data['Temp at Launch Time'].mean(), inplace=True)\n",
    "launch_data['Visibility'].fillna(launch_data['Visibility'].mean(), inplace=True)\n",
    "launch_data['Max Wind Speed'].fillna(launch_data['Max Wind Speed'].mean(), inplace=True)\n",
    "launch_data['Hist Ave Percipitation'].fillna(launch_data['Hist Ave Percipitation'].mean(), inplace=True)\n",
    "launch_data['Percipitation at Launch Time'].fillna(launch_data['Percipitation at Launch Time'].mean(), inplace=True)\n",
    "launch_data['Hist Ave Temp'].fillna(launch_data['Hist Ave Temp'].mean(), inplace=True)\n",
    "launch_data['Hist Low Temp'].fillna(launch_data['Hist Low Temp'].mean(), inplace=True)\n",
    "launch_data['Hist High Temp'].fillna(launch_data['Hist High Temp'].mean(), inplace=True)\n",
    "launch_data['Ave Temp'].fillna(launch_data['Ave Temp'].mean(), inplace=True)\n",
    "launch_data['Low Temp'].fillna(launch_data['Low Temp'].mean(), inplace=True)\n",
    "launch_data['High Temp'].fillna(launch_data['High Temp'].mean(), inplace=True)\n",
    "\n",
    "\n",
    "# Also fill Day length with mean instead of 0, first convert day length to minutes to fill with mean \n",
    "def time_to_minutes(time):\n",
    "    return time.hour * 60 + time.minute + time.second / 60 if isinstance(time, datetime.time) else None\n",
    "# Apply the function to the DataFrame column\n",
    "launch_data['Day Length'] = launch_data['Day Length'].apply(time_to_minutes)\n",
    "launch_data['Day Length'].fillna(launch_data['Day Length'].mean(), inplace=True)\n",
    "\n",
    "# Fill Sea level pressure with mean but Printing the value_counts I noticed one of the values in the column was 20:52:00\n",
    "#launch_data['Sea Level Pressure'].value_counts() \n",
    "launch_data['Sea Level Pressure'].replace('20:52:00', np.nan, inplace=True)\n",
    "launch_data['Sea Level Pressure'] = pd.to_numeric(launch_data['Sea Level Pressure'], errors='coerce')\n",
    "launch_data['Sea Level Pressure'].fillna(launch_data['Sea Level Pressure'].mean(), inplace=True)\n",
    "\n",
    "# Drop 3 empty columns \n",
    "launch_data = launch_data.drop(['Hist Ave Sea Level Pressure', 'Hist Ave Visibility', 'Hist Ave Max Wind Speed'], axis=1)\n",
    "\n",
    "# Fill remaining columns with 0: Name, Time and Notes\n",
    "launch_data.fillna(0,inplace=True)\n",
    "\n",
    "launch_data.head()\n",
    "\n"
   ]
  },
  {
   "cell_type": "code",
   "execution_count": 196,
   "metadata": {},
   "outputs": [
    {
     "name": "stdout",
     "output_type": "stream",
     "text": [
      "Sea Level Pressure\n",
      "30.030000    24\n",
      "29.990000    15\n",
      "30.080000    15\n",
      "30.040000    14\n",
      "30.060000    13\n",
      "30.110000    12\n",
      "29.980000    11\n",
      "30.010000    11\n",
      "29.960000     9\n",
      "30.070000     8\n",
      "30.190000     8\n",
      "30.140000     8\n",
      "30.100000     8\n",
      "30.090000     7\n",
      "30.000000     6\n",
      "30.200000     6\n",
      "30.160000     6\n",
      "30.290000     6\n",
      "30.120000     6\n",
      "29.920000     6\n",
      "30.150000     6\n",
      "30.050000     6\n",
      "30.210000     6\n",
      "30.170000     5\n",
      "30.240000     5\n",
      "30.020000     5\n",
      "30.270000     5\n",
      "30.130000     5\n",
      "29.950000     4\n",
      "29.970000     4\n",
      "29.910000     4\n",
      "30.180000     4\n",
      "29.870000     4\n",
      "30.220000     3\n",
      "30.300000     3\n",
      "29.880000     3\n",
      "29.930000     3\n",
      "29.900000     2\n",
      "30.260000     2\n",
      "30.330000     2\n",
      "30.088859     2\n",
      "30.340000     2\n",
      "30.380000     1\n",
      "30.400000     1\n",
      "30.350000     1\n",
      "30.390000     1\n",
      "30.320000     1\n",
      "30.540000     1\n",
      "29.940000     1\n",
      "30.410000     1\n",
      "31.210000     1\n",
      "29.810000     1\n",
      "29.750000     1\n",
      "29.800000     1\n",
      "30.230000     1\n",
      "30.280000     1\n",
      "30.250000     1\n",
      "30.910000     1\n",
      "Name: count, dtype: int64\n"
     ]
    }
   ],
   "source": [
    "print(launch_data[\"Sea Level Pressure\"].value_counts())"
   ]
  },
  {
   "cell_type": "code",
   "execution_count": 185,
   "metadata": {},
   "outputs": [
    {
     "data": {
      "image/png": "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",
      "text/plain": [
       "<Figure size 600x400 with 1 Axes>"
      ]
     },
     "metadata": {},
     "output_type": "display_data"
    }
   ],
   "source": [
    "plt.figure(figsize=(6, 4))\n",
    "launch_data['Visibility'].value_counts().plot(kind='bar', color='skyblue', edgecolor='black')\n",
    "plt.title('Histogram of Visibility')\n",
    "plt.xlabel('Visibility')\n",
    "plt.ylabel('Count')\n",
    "plt.show()"
   ]
  },
  {
   "cell_type": "markdown",
   "metadata": {},
   "source": [
    "### Encode text columns "
   ]
  },
  {
   "cell_type": "code",
   "execution_count": 232,
   "metadata": {},
   "outputs": [],
   "source": [
    "\n",
    "# As part of the data cleaning process, we have to convert text data \n",
    "# to numerical because computers understand only numbers\n",
    "label_encoder = preprocessing.LabelEncoder()\n",
    "\n",
    "# Five columns have categorical text info, and we convert them to numbers\n",
    "launch_data['Crewed or Uncrewed'] = label_encoder.fit_transform(launch_data['Crewed or Uncrewed'])\n",
    "launch_data['Wind Direction'] = label_encoder.fit_transform(launch_data['Wind Direction'])\n",
    "launch_data['Condition'] = label_encoder.fit_transform(launch_data['Condition'])\n",
    "launch_data['Launched?'] = label_encoder.fit_transform(launch_data['Launched?'])\n",
    "launch_data['Launch_that_day'] = label_encoder.fit_transform(launch_data['Launch_that_day'])\n",
    "\n",
   ]
  },
  {
   "cell_type": "markdown",
   "metadata": {},
   "source": [
    "### Drop columns "
   ]
  },
  {
   "cell_type": "code",
   "execution_count": 233,
   "metadata": {},
   "outputs": [],
   "source": [
    "y = launch_data['Launched?']\n",
    "\n",
    "launch_data.drop(['Name','Date','Time (East Coast)','Location','Launched?','Sea Level Pressure','Day Length','Notes'],axis=1, inplace=True)\n",
    "\n",
    "X = launch_data\n"
   ]
  },
  {
   "cell_type": "markdown",
   "metadata": {},
   "source": [
    "## Making Predictions\n"
   ]
  },
  {
   "cell_type": "code",
   "execution_count": 234,
   "metadata": {},
   "outputs": [],
   "source": [
    "# Create decision tree classifier \n",
    "dt = DecisionTreeClassifier(random_state=0,max_depth=5)"
   ]
  },
  {
   "cell_type": "code",
   "execution_count": 235,
   "metadata": {},
   "outputs": [],
   "source": [
    "# Split the data into training and test sets\n",
    "X_train, X_test, y_train, y_test = train_test_split(X,y, test_size=0.2, random_state=42)\n"
   ]
  },
  {
   "cell_type": "code",
   "execution_count": 236,
   "metadata": {},
   "outputs": [
    {
     "data": {
      "text/html": [
       "<style>#sk-container-id-1 {color: black;}#sk-container-id-1 pre{padding: 0;}#sk-container-id-1 div.sk-toggleable {background-color: white;}#sk-container-id-1 label.sk-toggleable__label {cursor: pointer;display: block;width: 100%;margin-bottom: 0;padding: 0.3em;box-sizing: border-box;text-align: center;}#sk-container-id-1 label.sk-toggleable__label-arrow:before {content: \"▸\";float: left;margin-right: 0.25em;color: #696969;}#sk-container-id-1 label.sk-toggleable__label-arrow:hover:before {color: black;}#sk-container-id-1 div.sk-estimator:hover label.sk-toggleable__label-arrow:before {color: black;}#sk-container-id-1 div.sk-toggleable__content {max-height: 0;max-width: 0;overflow: hidden;text-align: left;background-color: #f0f8ff;}#sk-container-id-1 div.sk-toggleable__content pre {margin: 0.2em;color: black;border-radius: 0.25em;background-color: #f0f8ff;}#sk-container-id-1 input.sk-toggleable__control:checked~div.sk-toggleable__content {max-height: 200px;max-width: 100%;overflow: auto;}#sk-container-id-1 input.sk-toggleable__control:checked~label.sk-toggleable__label-arrow:before {content: \"▾\";}#sk-container-id-1 div.sk-estimator input.sk-toggleable__control:checked~label.sk-toggleable__label {background-color: #d4ebff;}#sk-container-id-1 div.sk-label input.sk-toggleable__control:checked~label.sk-toggleable__label {background-color: #d4ebff;}#sk-container-id-1 input.sk-hidden--visually {border: 0;clip: rect(1px 1px 1px 1px);clip: rect(1px, 1px, 1px, 1px);height: 1px;margin: -1px;overflow: hidden;padding: 0;position: absolute;width: 1px;}#sk-container-id-1 div.sk-estimator {font-family: monospace;background-color: #f0f8ff;border: 1px dotted black;border-radius: 0.25em;box-sizing: border-box;margin-bottom: 0.5em;}#sk-container-id-1 div.sk-estimator:hover {background-color: #d4ebff;}#sk-container-id-1 div.sk-parallel-item::after {content: \"\";width: 100%;border-bottom: 1px solid gray;flex-grow: 1;}#sk-container-id-1 div.sk-label:hover label.sk-toggleable__label {background-color: #d4ebff;}#sk-container-id-1 div.sk-serial::before {content: \"\";position: absolute;border-left: 1px solid gray;box-sizing: border-box;top: 0;bottom: 0;left: 50%;z-index: 0;}#sk-container-id-1 div.sk-serial {display: flex;flex-direction: column;align-items: center;background-color: white;padding-right: 0.2em;padding-left: 0.2em;position: relative;}#sk-container-id-1 div.sk-item {position: relative;z-index: 1;}#sk-container-id-1 div.sk-parallel {display: flex;align-items: stretch;justify-content: center;background-color: white;position: relative;}#sk-container-id-1 div.sk-item::before, #sk-container-id-1 div.sk-parallel-item::before {content: \"\";position: absolute;border-left: 1px solid gray;box-sizing: border-box;top: 0;bottom: 0;left: 50%;z-index: -1;}#sk-container-id-1 div.sk-parallel-item {display: flex;flex-direction: column;z-index: 1;position: relative;background-color: white;}#sk-container-id-1 div.sk-parallel-item:first-child::after {align-self: flex-end;width: 50%;}#sk-container-id-1 div.sk-parallel-item:last-child::after {align-self: flex-start;width: 50%;}#sk-container-id-1 div.sk-parallel-item:only-child::after {width: 0;}#sk-container-id-1 div.sk-dashed-wrapped {border: 1px dashed gray;margin: 0 0.4em 0.5em 0.4em;box-sizing: border-box;padding-bottom: 0.4em;background-color: white;}#sk-container-id-1 div.sk-label label {font-family: monospace;font-weight: bold;display: inline-block;line-height: 1.2em;}#sk-container-id-1 div.sk-label-container {text-align: center;}#sk-container-id-1 div.sk-container {/* jupyter's `normalize.less` sets `[hidden] { display: none; }` but bootstrap.min.css set `[hidden] { display: none !important; }` so we also need the `!important` here to be able to override the default hidden behavior on the sphinx rendered scikit-learn.org. See: https://github.com/scikit-learn/scikit-learn/issues/21755 */display: inline-block !important;position: relative;}#sk-container-id-1 div.sk-text-repr-fallback {display: none;}</style><div id=\"sk-container-id-1\" class=\"sk-top-container\"><div class=\"sk-text-repr-fallback\"><pre>DecisionTreeClassifier(max_depth=5, random_state=0)</pre><b>In a Jupyter environment, please rerun this cell to show the HTML representation or trust the notebook. <br />On GitHub, the HTML representation is unable to render, please try loading this page with nbviewer.org.</b></div><div class=\"sk-container\" hidden><div class=\"sk-item\"><div class=\"sk-estimator sk-toggleable\"><input class=\"sk-toggleable__control sk-hidden--visually\" id=\"sk-estimator-id-1\" type=\"checkbox\" checked><label for=\"sk-estimator-id-1\" class=\"sk-toggleable__label sk-toggleable__label-arrow\">DecisionTreeClassifier</label><div class=\"sk-toggleable__content\"><pre>DecisionTreeClassifier(max_depth=5, random_state=0)</pre></div></div></div></div></div>"
      ],
      "text/plain": [
       "DecisionTreeClassifier(max_depth=5, random_state=0)"
      ]
     },
     "execution_count": 236,
     "metadata": {},
     "output_type": "execute_result"
    }
   ],
   "source": [
    "dt.fit(X_train,y_train)"
   ]
  },
  {
   "cell_type": "code",
   "execution_count": 237,
   "metadata": {},
   "outputs": [
    {
     "name": "stdout",
     "output_type": "stream",
     "text": [
      "[0 0 1 0 0 0 0 0 0 0 1 1 0 0 1 0 0 0 0 0 0 0 0 0 0 1 0 0 1 0 1 0 0 0 0 0 1\n",
      " 0 0 0 0 0 0 0 1 0 0 0 0 0 0 0 0 0 1 0 1 1 1 0]\n"
     ]
    }
   ],
   "source": [
    "y_pred = dt.predict(X_test)\n",
    "print(y_pred)"
   ]
  },
  {
   "cell_type": "markdown",
   "metadata": {},
   "source": [
    "## Evaluate the model "
   ]
  },
  {
   "cell_type": "code",
   "execution_count": 241,
   "metadata": {},
   "outputs": [
    {
     "data": {
      "text/plain": [
       "array([[47,  0],\n",
       "       [ 0, 13]], dtype=int64)"
      ]
     },
     "execution_count": 241,
     "metadata": {},
     "output_type": "execute_result"
    }
   ],
   "source": [
    "# Print confusion matrix\n",
    "confusion_matrix(y_test, y_pred)"
   ]
  },
  {
   "cell_type": "code",
   "execution_count": 243,
   "metadata": {},
   "outputs": [],
   "source": [
    "# Plot a visual tree\n",
    "from sklearn.tree import export_graphviz\n",
    "\n",
    "def tree_graph_to_png(tree, feature_names,class_names, png_file_to_save):\n",
    "    tree_str = export_graphviz(tree, feature_names=feature_names, class_names=class_names,\n",
    "                                     filled=True, out_file=None)\n",
    "    graph = pydotplus.graph_from_dot_data(tree_str)  \n",
    "    return Image(graph.create_png())"
   ]
  },
  {
   "cell_type": "code",
   "execution_count": 244,
   "metadata": {},
   "outputs": [
    {
     "data": {
      "image/png": "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",
      "text/plain": [
       "<IPython.core.display.Image object>"
      ]
     },
     "execution_count": 244,
     "metadata": {},
     "output_type": "execute_result"
    }
   ],
   "source": [
    "tree_graph_to_png(tree=dt, feature_names=X.columns.values,class_names=['No Launch','Launch'], png_file_to_save='decision-tree.png')\n"
   ]
  },
  {
   "cell_type": "code",
   "execution_count": null,
   "metadata": {},
   "outputs": [],
   "source": []
  }
 ],
 "metadata": {
  "kernelspec": {
   "display_name": "myenv",
   "language": "python",
   "name": "python3"
  },
  "language_info": {
   "codemirror_mode": {
    "name": "ipython",
    "version": 3
   },
   "file_extension": ".py",
   "mimetype": "text/x-python",
   "name": "python",
   "nbconvert_exporter": "python",
   "pygments_lexer": "ipython3",
   "version": "3.8.18"
  }
 },
 "nbformat": 4,
 "nbformat_minor": 2
}
